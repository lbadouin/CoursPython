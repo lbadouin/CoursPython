{
 "cells": [
  {
   "cell_type": "code",
   "execution_count": 2,
   "metadata": {},
   "outputs": [],
   "source": [
    "import ipywidgets as widgets\n",
    "from ipywidgets import interact, interact_manual"
   ]
  },
  {
   "cell_type": "code",
   "execution_count": 27,
   "metadata": {},
   "outputs": [],
   "source": [
    "import os"
   ]
  },
  {
   "cell_type": "markdown",
   "metadata": {},
   "source": [
    "Le module os contient les methodes permettant de parcourir les fichiers présents sur l'espace de la machine"
   ]
  },
  {
   "cell_type": "markdown",
   "metadata": {},
   "source": [
    "# Fonctions notables\n",
    "\n",
    "os.path.join() : concatène les éléments d'un chemin\n",
    "\n",
    "os.path.split() : sépare les composantes d'un chemin\n",
    "\n",
    "os.path.isdir() : détermine si un chemin est un dossier\n",
    "\n",
    "os.path.isfile() : détermine si un chemin est un fichier\n",
    "\n",
    "os.path.getctime() : donne l'horodatage (change) d'un fichier\n",
    "\n",
    "os.utime() : force l'horodatage d'un fichier\n",
    "\n",
    "os.mkdir() : créer un dossier\n",
    "\n",
    "os.rmdir() : supprime un dossier\n",
    "\n",
    "# Utilisation avancée\n",
    "\n",
    "os.walk() : parcour d'arborescence du lecteur\n"
   ]
  },
  {
   "cell_type": "code",
   "execution_count": null,
   "metadata": {
    "scrolled": false
   },
   "outputs": [],
   "source": []
  },
  {
   "cell_type": "markdown",
   "metadata": {},
   "source": [
    "Ecrire une fonction qui affiche tous les fichiers d'un répertoire ayant une extention donnée"
   ]
  },
  {
   "cell_type": "code",
   "execution_count": 5,
   "metadata": {},
   "outputs": [],
   "source": [
    "def list_files(folder, extention):\n",
    "    print(f\"Show all {extention} files in {folder}\")\n",
    "    pass"
   ]
  },
  {
   "cell_type": "code",
   "execution_count": 26,
   "metadata": {},
   "outputs": [
    {
     "data": {
      "application/vnd.jupyter.widget-view+json": {
       "model_id": "080d102e85004918bba193a7257d08e3",
       "version_major": 2,
       "version_minor": 0
      },
      "text/plain": [
       "interactive(children=(Text(value='C:\\\\Users\\\\Meritis Classe\\\\PycharmProjects\\\\CoursPython\\\\module 3', descript…"
      ]
     },
     "metadata": {},
     "output_type": "display_data"
    }
   ],
   "source": [
    "@interact\n",
    "def show_list_files(folder=r'C:\\Users\\Meritis Classe\\PycharmProjects\\CoursPython\\module 3', \n",
    "                    extention=['.csv','.txt','.zip','.py']):\n",
    "    list_files(folder=folder, extention=extention)"
   ]
  },
  {
   "cell_type": "markdown",
   "metadata": {},
   "source": [
    "Modifier la fonction précédente pour afficher tous les fichiers dans le dossier ou bien l'un de ses sous-dossiers\n",
    "\n",
    "Tip : utiliser os.listdir et os.isdir ou bien os.walk"
   ]
  },
  {
   "cell_type": "markdown",
   "metadata": {},
   "source": [
    "La fonction open() permet d'ouvrir un fichier existant, ou d'en créer un nouveau. On lui précise le nom du fichier et le mode d'accès : w (write) a (append) ou r (read) et le mode (b pour binaire, rien pour texte). par exemple, le mode d'accès 'rb' indique à python d'ouvrir le fichier et de lire son contenu en binaire.\n",
    "\n",
    "Un fichier ouvert doit etre fermé lorsque son utilisation est terminée"
   ]
  },
  {
   "cell_type": "code",
   "execution_count": 40,
   "metadata": {},
   "outputs": [],
   "source": [
    "f = open('hello.txt','w')\n",
    "f.write(\"Bonjour !\")\n",
    "f.close()"
   ]
  },
  {
   "cell_type": "code",
   "execution_count": 41,
   "metadata": {},
   "outputs": [],
   "source": [
    "# La syntaxe with permet d'automatiser le f.close() en cas d'exception\n",
    "with open('hello.txt','a') as f:\n",
    "    f.write('\\nComment allez vous ?')"
   ]
  },
  {
   "cell_type": "code",
   "execution_count": 46,
   "metadata": {},
   "outputs": [
    {
     "name": "stdout",
     "output_type": "stream",
     "text": [
      "Bonjour !\n",
      "Comment allez vous ?\n"
     ]
    }
   ],
   "source": [
    "# read permet de lire le contenu d'un fichier\n",
    "with open('hello.txt', 'r') as f:\n",
    "    content = f.read()\n",
    "\n",
    "print(content)"
   ]
  },
  {
   "cell_type": "code",
   "execution_count": 51,
   "metadata": {},
   "outputs": [
    {
     "name": "stdout",
     "output_type": "stream",
     "text": [
      "Bonjour !\n",
      "\n",
      "Comment allez vous ?\n"
     ]
    }
   ],
   "source": [
    "# readlines permet de lire les lignes d'un fichier texte une par une\n",
    "with open('hello.txt', 'r') as f:\n",
    "    for line in f.readlines():\n",
    "        print(line)"
   ]
  },
  {
   "cell_type": "code",
   "execution_count": 56,
   "metadata": {},
   "outputs": [
    {
     "name": "stdout",
     "output_type": "stream",
     "text": [
      "le fichier contient 2 lignes\n",
      "\n"
     ]
    }
   ],
   "source": [
    "# Attention, ceci ne marche pas comme prévu\n",
    "with open('hello.txt', 'r') as f:\n",
    "    print('le fichier contient {} lignes\\n'.format(len(f.readlines())))\n",
    "    for line in f.readlines():\n",
    "        print(line)"
   ]
  },
  {
   "cell_type": "code",
   "execution_count": 57,
   "metadata": {},
   "outputs": [
    {
     "name": "stdout",
     "output_type": "stream",
     "text": [
      "le fichier contient 2 lignes\n",
      "\n",
      "Bonjour !\n",
      "\n",
      "Comment allez vous ?\n"
     ]
    }
   ],
   "source": [
    "# ajouter f.seek(0) pour remettre readlines en début de fichier si nescessaire\n",
    "with open('hello.txt', 'r') as f:\n",
    "    print('le fichier contient {} lignes\\n'.format(len(f.readlines())))\n",
    "    f.seek(0)\n",
    "    for line in f.readlines():\n",
    "        print(line)"
   ]
  },
  {
   "cell_type": "markdown",
   "metadata": {},
   "source": [
    "### Exercices\n",
    "\n",
    "Dans cet exercice, vous allez apprendre à parcourir l'arborescence d'un lecteur et affectuer des opérations basiques sur les fichiers\n"
   ]
  },
  {
   "cell_type": "code",
   "execution_count": 1,
   "metadata": {},
   "outputs": [],
   "source": [
    "# Exercice 1 : lister tous les fichiers .py et .pynb d'un répertoire\n",
    "\n"
   ]
  },
  {
   "cell_type": "code",
   "execution_count": 2,
   "metadata": {},
   "outputs": [],
   "source": [
    "# Exercice 2 : listes tous les fichiers .py et .pynb d'un répertoire et de ses sous dossier\n",
    "# Astuce : utiliser os.path.listdir et os.path.isdir ou os.walk pour parcourir le répertoire\n"
   ]
  },
  {
   "cell_type": "code",
   "execution_count": 3,
   "metadata": {},
   "outputs": [],
   "source": [
    "# Exercice 3 : écrire une fonction qui renvoie le nombre de lignes d'un fichier py ou pynb\n",
    "\n"
   ]
  },
  {
   "cell_type": "code",
   "execution_count": 4,
   "metadata": {},
   "outputs": [],
   "source": [
    "# Exercice 4 : écrire une fonction qui liste tous les fichiers py ou pynb présent dans un dossier ou ses sous-dossiers, compte le nombre de ligne de chacun, puis crée un fichier avec le résultat\n"
   ]
  },
  {
   "cell_type": "code",
   "execution_count": 5,
   "metadata": {},
   "outputs": [],
   "source": [
    "# Exercice : écrire une fonction qui liste le nombre  de lignes et le nombre de lignes avec commentaires des fichier .py présents dans un dossier et ses sous dossiers, calculer de ratio entre les deux et ecrire le résultat fichier par fichier dans un fichier de resultats.\n",
    "\n"
   ]
  },
  {
   "cell_type": "code",
   "execution_count": null,
   "metadata": {},
   "outputs": [],
   "source": []
  }
 ],
 "metadata": {
  "kernelspec": {
   "display_name": "Python 3",
   "language": "python",
   "name": "python3"
  },
  "language_info": {
   "codemirror_mode": {
    "name": "ipython",
    "version": 3
   },
   "file_extension": ".py",
   "mimetype": "text/x-python",
   "name": "python",
   "nbconvert_exporter": "python",
   "pygments_lexer": "ipython3",
   "version": "3.7.3"
  }
 },
 "nbformat": 4,
 "nbformat_minor": 2
}
