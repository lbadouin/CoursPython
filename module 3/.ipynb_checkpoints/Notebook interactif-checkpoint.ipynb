{
 "cells": [
  {
   "cell_type": "markdown",
   "metadata": {},
   "source": [
    "* installer le module de widgets : \n",
    "\n",
    "_pip install ipywidgets_\n",
    "\n",
    "* Activer le module dans jupyter\n",
    "\n",
    "_jupyter nbextension enable --py widgetsnbextension_\n",
    "\n",
    "* Dans le notebook, importer les fonctions qui permettront d'appeler le widget\n",
    "\n",
    "_import ipywidgets as widgets_\n",
    "\n",
    "_from ipywidgets import interact, interact_manual_"
   ]
  },
  {
   "cell_type": "code",
   "execution_count": 1,
   "metadata": {},
   "outputs": [],
   "source": [
    "import ipywidgets as widgets\n",
    "\n",
    "from ipywidgets import interact, interact_manual"
   ]
  },
  {
   "cell_type": "code",
   "execution_count": 2,
   "metadata": {},
   "outputs": [
    {
     "ename": "SyntaxError",
     "evalue": "invalid syntax (<ipython-input-2-343a440a97cd>, line 6)",
     "output_type": "error",
     "traceback": [
      "\u001b[1;36m  File \u001b[1;32m\"<ipython-input-2-343a440a97cd>\"\u001b[1;36m, line \u001b[1;32m6\u001b[0m\n\u001b[1;33m    else phrase.append(mot)\u001b[0m\n\u001b[1;37m              ^\u001b[0m\n\u001b[1;31mSyntaxError\u001b[0m\u001b[1;31m:\u001b[0m invalid syntax\n"
     ]
    }
   ],
   "source": [
    "def begue(message, repetitions):\n",
    "    phrase = \"\"\n",
    "    for mot in message.split(' ') :\n",
    "        if len(mot) > 1:\n",
    "            phrase.append(mot * repetitions)\n",
    "        else:\n",
    "            phrase.append(mot)\n",
    "    return phrase\n",
    "    "
   ]
  },
  {
   "cell_type": "code",
   "execution_count": null,
   "metadata": {},
   "outputs": [],
   "source": []
  }
 ],
 "metadata": {
  "kernelspec": {
   "display_name": "Python 3",
   "language": "python",
   "name": "python3"
  },
  "language_info": {
   "codemirror_mode": {
    "name": "ipython",
    "version": 3
   },
   "file_extension": ".py",
   "mimetype": "text/x-python",
   "name": "python",
   "nbconvert_exporter": "python",
   "pygments_lexer": "ipython3",
   "version": "3.7.3"
  }
 },
 "nbformat": 4,
 "nbformat_minor": 2
}
