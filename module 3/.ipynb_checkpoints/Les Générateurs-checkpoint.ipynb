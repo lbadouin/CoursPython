{
 "cells": [
  {
   "cell_type": "markdown",
   "metadata": {},
   "source": [
    "# Générateurs\n",
    "\n",
    "Un générateur est un objet qui peut renvoyer des éléments les un après les autres via  la fonction next(), et n'est utilisable qu'une seule fois.\n",
    "\n",
    "Les générateurs sont notament utilisés dans la boucle for"
   ]
  },
  {
   "cell_type": "code",
   "execution_count": 1,
   "metadata": {},
   "outputs": [
    {
     "name": "stdout",
     "output_type": "stream",
     "text": [
      "0\n",
      "1\n",
      "2\n",
      "3\n",
      "4\n",
      "5\n",
      "6\n",
      "7\n",
      "8\n",
      "9\n"
     ]
    }
   ],
   "source": [
    "# Le plus célèbre des générateurs\n",
    "for i in range(10):\n",
    "    print(i)"
   ]
  },
  {
   "cell_type": "code",
   "execution_count": 2,
   "metadata": {},
   "outputs": [],
   "source": [
    "a = range(10)"
   ]
  },
  {
   "cell_type": "code",
   "execution_count": 3,
   "metadata": {},
   "outputs": [
    {
     "data": {
      "text/plain": [
       "[0, 1, 2, 3, 4, 5, 6, 7, 8, 9]"
      ]
     },
     "execution_count": 3,
     "metadata": {},
     "output_type": "execute_result"
    }
   ],
   "source": [
    "# création de la liste des éléments renvoyés par un générateur (uniquement si le générateur s'arrète)\n",
    "list(a)"
   ]
  },
  {
   "cell_type": "code",
   "execution_count": 4,
   "metadata": {
    "scrolled": false
   },
   "outputs": [
    {
     "name": "stdout",
     "output_type": "stream",
     "text": [
      ".\\.ipynb_checkpoints\\Imports-checkpoint.ipynb\n",
      ".\\.ipynb_checkpoints\\Les comportements en python-checkpoint.ipynb\n",
      ".\\.ipynb_checkpoints\\Les décorateurs en Python-checkpoint.ipynb\n",
      ".\\.ipynb_checkpoints\\Les Exceptions-checkpoint.ipynb\n",
      ".\\.ipynb_checkpoints\\Notebook interactif-checkpoint.ipynb\n",
      ".\\my_package\\__pycache__\\salutations.cpython-37.pyc\n",
      ".\\my_package\\__pycache__\\__init__.cpython-37.pyc\n",
      ".\\my_package\\salutations.py\n",
      ".\\my_package\\__init__.py\n",
      ".\\my_package\\__pycache__\n",
      ".\\__pycache__\\my_module.cpython-37.pyc\n",
      ".\\Imports.ipynb\n",
      ".\\Les comportements en python.ipynb\n",
      ".\\Les décorateurs en Python.ipynb\n",
      ".\\Les Exceptions.ipynb\n",
      ".\\Les Générateurs.ipynb\n",
      ".\\module 3.md\n",
      ".\\my_module.py\n",
      ".\\Notebook interactif.ipynb\n",
      ".\\script.py\n",
      ".\\.ipynb_checkpoints\n",
      ".\\my_package\n",
      ".\\__pycache__\n"
     ]
    }
   ],
   "source": [
    "# générateur plus spécialisé, walk permet de parcourir l'arborescence d'un disque\n",
    "import os\n",
    "for root, dirs, files in os.walk(\".\", topdown=False):\n",
    "   for name in files:\n",
    "      print(os.path.join(root, name))\n",
    "   for name in dirs:\n",
    "      print(os.path.join(root, name))"
   ]
  },
  {
   "cell_type": "markdown",
   "metadata": {},
   "source": [
    "### Créer un générateur sous forme de \"fonction\"\n",
    "\n",
    "Lorsque le mot clef yield est utilisé à la place de return, l'objet créé est un générateur plutôt qu'une simple fonction. Un générateur est initialisé en l'appelant comme une fonction, puis le mot clef next permet d'obtenir la valeur suivante d'un générateur."
   ]
  },
  {
   "cell_type": "code",
   "execution_count": null,
   "metadata": {},
   "outputs": [],
   "source": [
    "def my_range(start, end):\n",
    "    assert start < end\n",
    "    i = start\n",
    "    while i < end :\n",
    "        # lorsque next est appelé, python exécute le code jusqu'à rencontrer yield, puis rend la main au programme appelant.\n",
    "        # lorque next est appelé une seconde fois, le générateur reprend là où il s'est arrété.\n",
    "        yield i\n",
    "        i += 1"
   ]
  },
  {
   "cell_type": "code",
   "execution_count": null,
   "metadata": {
    "collapsed": true
   },
   "outputs": [],
   "source": [
    "b = my_range(0,10)"
   ]
  },
  {
   "cell_type": "code",
   "execution_count": null,
   "metadata": {},
   "outputs": [],
   "source": [
    "b"
   ]
  },
  {
   "cell_type": "code",
   "execution_count": null,
   "metadata": {},
   "outputs": [],
   "source": [
    "# Utilisable une fois uniquement\n",
    "for i in b:\n",
    "    print(i)"
   ]
  },
  {
   "cell_type": "code",
   "execution_count": null,
   "metadata": {},
   "outputs": [],
   "source": [
    "b = my_range(0,5)"
   ]
  },
  {
   "cell_type": "code",
   "execution_count": null,
   "metadata": {},
   "outputs": [],
   "source": [
    "next(b)"
   ]
  },
  {
   "cell_type": "code",
   "execution_count": null,
   "metadata": {},
   "outputs": [],
   "source": [
    "# génrateur sans fin\n",
    "def factorielle():\n",
    "    f = 1\n",
    "    i = 0\n",
    "    while True:\n",
    "        yield f\n",
    "        i += 1\n",
    "        f = f*i"
   ]
  },
  {
   "cell_type": "code",
   "execution_count": null,
   "metadata": {},
   "outputs": [],
   "source": [
    "fact = factorielle()"
   ]
  },
  {
   "cell_type": "code",
   "execution_count": null,
   "metadata": {},
   "outputs": [],
   "source": [
    "next(fact)"
   ]
  },
  {
   "cell_type": "code",
   "execution_count": null,
   "metadata": {},
   "outputs": [],
   "source": [
    "# Ne marche pas\n",
    "next(factorielle)"
   ]
  },
  {
   "cell_type": "markdown",
   "metadata": {},
   "source": [
    "### Créer un générateur sous forme de classe\n",
    "\n",
    "la fonction __ __iter__ __ renvoie un générateur.\n",
    "\n",
    "la fonction __ __next__ __ renvoie la valeur suivante du générateur.\n",
    "\n"
   ]
  },
  {
   "cell_type": "code",
   "execution_count": null,
   "metadata": {
    "collapsed": true
   },
   "outputs": [],
   "source": [
    "class fibo:\n",
    "    \n",
    "    def __init__(self, limit=10):\n",
    "        self._a = 1\n",
    "        self._b = 1\n",
    "        self._count = 0\n",
    "        self._limit = limit\n",
    "        \n",
    "    def __iter__(self):\n",
    "        return self\n",
    "    \n",
    "    def __next__(self):\n",
    "        if self._count <= self._limit:\n",
    "            self._a, self._b = self._b, self._a+self._b\n",
    "            self._count += 1\n",
    "            return self._b\n",
    "        else:\n",
    "            raise StopIteration\n",
    "        "
   ]
  },
  {
   "cell_type": "code",
   "execution_count": null,
   "metadata": {},
   "outputs": [],
   "source": [
    "f = iter(fibo(5))"
   ]
  },
  {
   "cell_type": "code",
   "execution_count": null,
   "metadata": {},
   "outputs": [],
   "source": [
    "next(f)"
   ]
  },
  {
   "cell_type": "code",
   "execution_count": null,
   "metadata": {},
   "outputs": [],
   "source": [
    "for i in fibo(5):\n",
    "    print(i)"
   ]
  },
  {
   "cell_type": "code",
   "execution_count": null,
   "metadata": {
    "collapsed": true
   },
   "outputs": [],
   "source": [
    "# version  alternative en utilisant __iter__ et yield"
   ]
  },
  {
   "cell_type": "code",
   "execution_count": null,
   "metadata": {
    "collapsed": true
   },
   "outputs": [],
   "source": [
    "class Bond:\n",
    "\n",
    "    def __init__(self,nominal_value,coupon_rate,maturity):\n",
    "        assert type(maturity) == int\n",
    "        self._nominal_value = nominal_value\n",
    "        self._coupon_rate = coupon_rate\n",
    "        self._maturity = maturity\n",
    "        \n",
    "    def __iter__(self):\n",
    "        coupon_value = self._coupon_rate / 100 * self._nominal_value\n",
    "        for i in range(1,self._maturity):\n",
    "            yield coupon_value\n",
    "        yield self._nominal_value + coupon_value"
   ]
  },
  {
   "cell_type": "code",
   "execution_count": null,
   "metadata": {},
   "outputs": [],
   "source": [
    "OAT = Bond(1000000,.75,10)"
   ]
  },
  {
   "cell_type": "code",
   "execution_count": null,
   "metadata": {},
   "outputs": [],
   "source": [
    "for cash_flow in OAT:\n",
    "    print(cash_flow)"
   ]
  },
  {
   "cell_type": "code",
   "execution_count": null,
   "metadata": {},
   "outputs": [],
   "source": [
    "[cash_flow for cash_flow in OAT]"
   ]
  },
  {
   "cell_type": "code",
   "execution_count": null,
   "metadata": {},
   "outputs": [],
   "source": [
    "list(OAT)"
   ]
  },
  {
   "cell_type": "code",
   "execution_count": null,
   "metadata": {
    "collapsed": true
   },
   "outputs": [],
   "source": []
  }
 ],
 "metadata": {
  "kernelspec": {
   "display_name": "Python 3",
   "language": "python",
   "name": "python3"
  },
  "language_info": {
   "codemirror_mode": {
    "name": "ipython",
    "version": 3
   },
   "file_extension": ".py",
   "mimetype": "text/x-python",
   "name": "python",
   "nbconvert_exporter": "python",
   "pygments_lexer": "ipython3",
   "version": "3.7.3"
  }
 },
 "nbformat": 4,
 "nbformat_minor": 2
}
