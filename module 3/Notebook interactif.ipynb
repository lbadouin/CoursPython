{
 "cells": [
  {
   "cell_type": "markdown",
   "metadata": {},
   "source": [
    "* installer le module de widgets : \n",
    "\n",
    "_pip install ipywidgets_\n",
    "\n",
    "* Activer le module dans jupyter\n",
    "\n",
    "_jupyter nbextension enable --py widgetsnbextension_\n",
    "\n",
    "* Dans le notebook, importer les fonctions qui permettront d'appeler le widget\n",
    "\n",
    "_import ipywidgets as widgets_\n",
    "\n",
    "_from ipywidgets import interact, interact_manual_"
   ]
  },
  {
   "cell_type": "code",
   "execution_count": 1,
   "metadata": {},
   "outputs": [],
   "source": [
    "import ipywidgets as widgets\n",
    "\n",
    "from ipywidgets import interact, interact_manual"
   ]
  },
  {
   "cell_type": "code",
   "execution_count": 12,
   "metadata": {},
   "outputs": [],
   "source": [
    "def begue(message, repetitions):\n",
    "    phrase = []\n",
    "    for mot in message.split(' ') :\n",
    "        if len(mot) > 1:\n",
    "            phrase.append((mot+' ') * repetitions)\n",
    "        else:\n",
    "            phrase.append(mot)\n",
    "    return ' '.join(phrase)\n",
    "    "
   ]
  },
  {
   "cell_type": "code",
   "execution_count": 13,
   "metadata": {},
   "outputs": [
    {
     "data": {
      "text/plain": [
       "'Bonjour Bonjour  , comment comment  allez-vous allez-vous  ?'"
      ]
     },
     "execution_count": 13,
     "metadata": {},
     "output_type": "execute_result"
    }
   ],
   "source": [
    "begue(\"Bonjour , comment allez-vous ?\", 2)"
   ]
  },
  {
   "cell_type": "code",
   "execution_count": 14,
   "metadata": {},
   "outputs": [
    {
     "data": {
      "application/vnd.jupyter.widget-view+json": {
       "model_id": "f33984ef713f4cdcb139af99913fc588",
       "version_major": 2,
       "version_minor": 0
      },
      "text/plain": [
       "interactive(children=(Text(value='Bonjour , comment allez-vous ?', description='message'), IntSlider(value=2, …"
      ]
     },
     "metadata": {},
     "output_type": "display_data"
    }
   ],
   "source": [
    "@interact\n",
    "def interactive_begue(message = \"Bonjour , comment allez-vous ?\", repetitions = 2):\n",
    "    return begue(message, repetitions)"
   ]
  },
  {
   "cell_type": "code",
   "execution_count": 16,
   "metadata": {},
   "outputs": [
    {
     "data": {
      "application/vnd.jupyter.widget-view+json": {
       "model_id": "57f94b19ad984a1695251cbd2af899f7",
       "version_major": 2,
       "version_minor": 0
      },
      "text/plain": [
       "interactive(children=(Text(value='Bonjour , comment allez-vous ?', description='message'), IntSlider(value=3, …"
      ]
     },
     "metadata": {},
     "output_type": "display_data"
    }
   ],
   "source": [
    "@interact\n",
    "def interactive_begue2(message = \"Bonjour , comment allez-vous ?\", repetitions = (1, 5, 1)):\n",
    "    return begue(message, repetitions)"
   ]
  },
  {
   "cell_type": "code",
   "execution_count": 22,
   "metadata": {},
   "outputs": [
    {
     "data": {
      "application/vnd.jupyter.widget-view+json": {
       "model_id": "0add2bdb372b46dba2ea894ef6163ee0",
       "version_major": 2,
       "version_minor": 0
      },
      "text/plain": [
       "interactive(children=(Dropdown(description='file', options=('desktop.ini', 'espace.jpg', 'ocean.jpg', 'papillo…"
      ]
     },
     "metadata": {},
     "output_type": "display_data"
    }
   ],
   "source": [
    "import os\n",
    "from IPython.display import Image\n",
    "\n",
    "@interact\n",
    "def show_images(file=os.listdir(r'C:\\Users\\Meritis Classe\\Pictures\\Saved Pictures')):\n",
    "    fdir = r'C:\\Users\\Meritis Classe\\Pictures\\Saved Pictures'\n",
    "    try:\n",
    "        display(Image(os.path.join(fdir,file)))\n",
    "    except Exception as err:\n",
    "        print(\"Cannot display image : {}\".format(err))"
   ]
  },
  {
   "cell_type": "code",
   "execution_count": 25,
   "metadata": {},
   "outputs": [],
   "source": [
    "from datetime import datetime\n",
    "def interact_in_parameters(start_date=widgets.DatePicker(value=datetime.today())):\n",
    "    return \"Vous avez choisi {}\".format(start_date)"
   ]
  },
  {
   "cell_type": "code",
   "execution_count": 26,
   "metadata": {},
   "outputs": [
    {
     "data": {
      "text/plain": [
       "'Vous avez choisi DatePicker(value=datetime.datetime(2019, 10, 10, 9, 56, 23, 600010))'"
      ]
     },
     "execution_count": 26,
     "metadata": {},
     "output_type": "execute_result"
    }
   ],
   "source": [
    "interact_in_parameters()"
   ]
  },
  {
   "cell_type": "code",
   "execution_count": null,
   "metadata": {},
   "outputs": [],
   "source": []
  }
 ],
 "metadata": {
  "kernelspec": {
   "display_name": "Python 3",
   "language": "python",
   "name": "python3"
  },
  "language_info": {
   "codemirror_mode": {
    "name": "ipython",
    "version": 3
   },
   "file_extension": ".py",
   "mimetype": "text/x-python",
   "name": "python",
   "nbconvert_exporter": "python",
   "pygments_lexer": "ipython3",
   "version": "3.7.3"
  }
 },
 "nbformat": 4,
 "nbformat_minor": 2
}
