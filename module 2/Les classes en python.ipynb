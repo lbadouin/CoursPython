{
 "cells": [
  {
   "cell_type": "markdown",
   "metadata": {},
   "source": [
    "# Utiliser une classe"
   ]
  },
  {
   "cell_type": "code",
   "execution_count": null,
   "metadata": {
    "collapsed": true
   },
   "outputs": [],
   "source": [
    "from datetime import datetime, timedelta"
   ]
  },
  {
   "cell_type": "code",
   "execution_count": null,
   "metadata": {},
   "outputs": [],
   "source": [
    "type(datetime)"
   ]
  },
  {
   "cell_type": "code",
   "execution_count": null,
   "metadata": {},
   "outputs": [],
   "source": [
    "datetime(2019,9,25)"
   ]
  },
  {
   "cell_type": "code",
   "execution_count": null,
   "metadata": {},
   "outputs": [],
   "source": []
  },
  {
   "cell_type": "code",
   "execution_count": null,
   "metadata": {
    "collapsed": true
   },
   "outputs": [],
   "source": [
    "today = datetime(2019,9,25,17,0)"
   ]
  },
  {
   "cell_type": "code",
   "execution_count": null,
   "metadata": {},
   "outputs": [],
   "source": [
    "type(today)"
   ]
  },
  {
   "cell_type": "code",
   "execution_count": null,
   "metadata": {},
   "outputs": [],
   "source": [
    "datetime.__doc__"
   ]
  },
  {
   "cell_type": "code",
   "execution_count": null,
   "metadata": {},
   "outputs": [],
   "source": [
    "datetime.__dict__"
   ]
  },
  {
   "cell_type": "code",
   "execution_count": null,
   "metadata": {},
   "outputs": [],
   "source": [
    "# methode de la classe datetime appliquée à l'objet today\n",
    "today.time()"
   ]
  },
  {
   "cell_type": "code",
   "execution_count": null,
   "metadata": {},
   "outputs": [],
   "source": [
    "# methode de la classe datetime appliquée à l'objet today\n",
    "today.date()"
   ]
  },
  {
   "cell_type": "code",
   "execution_count": null,
   "metadata": {},
   "outputs": [],
   "source": [
    "# hour est une propriété de l'objet today\n",
    "today.hour"
   ]
  },
  {
   "cell_type": "code",
   "execution_count": null,
   "metadata": {},
   "outputs": [],
   "source": [
    "# Essayons de changer d'heure\n",
    "today.hour = 15"
   ]
  },
  {
   "cell_type": "code",
   "execution_count": null,
   "metadata": {},
   "outputs": [],
   "source": [
    "# now est une méthode de classe, elle peut être appelée sans instancier un objet au préalable\n",
    "datetime.now()"
   ]
  },
  {
   "cell_type": "code",
   "execution_count": null,
   "metadata": {},
   "outputs": [],
   "source": [
    "# ceci n'affecte pas la valeur de today\n",
    "today.now()"
   ]
  },
  {
   "cell_type": "code",
   "execution_count": null,
   "metadata": {},
   "outputs": [],
   "source": [
    "today"
   ]
  },
  {
   "cell_type": "code",
   "execution_count": null,
   "metadata": {},
   "outputs": [],
   "source": [
    "# Les classes peuvent interagir entre elles\n",
    "yesterday = datetime(2019,9,24,17,0)\n",
    "today - yesterday"
   ]
  },
  {
   "cell_type": "code",
   "execution_count": null,
   "metadata": {},
   "outputs": [],
   "source": [
    "today + timedelta(hours=48)"
   ]
  },
  {
   "cell_type": "code",
   "execution_count": null,
   "metadata": {},
   "outputs": [],
   "source": []
  },
  {
   "cell_type": "markdown",
   "metadata": {},
   "source": [
    "# Définir une classe"
   ]
  },
  {
   "cell_type": "code",
   "execution_count": null,
   "metadata": {
    "collapsed": true
   },
   "outputs": [],
   "source": [
    "class Personne:\n",
    "    \n",
    "    # La methode __init__ est appelée lorsqu'un objet est instancié. Ce n'est pas un contructeur.\n",
    "    def __init__(self, prenom, nom):\n",
    "        # self désigne par convention l'instance en cours de la classe\n",
    "        self._nom = nom\n",
    "        self._prenom = prenom\n",
    "        \n",
    "    def bonjour(self):\n",
    "        print(\"Bonjour, je m'appelle {} {}\".format(self._prenom, self._nom))\n",
    "        \n",
    "    def presentation(self):\n",
    "        print(\"Mon nom est {}, {} {}\".format(self._nom, self._prenom, self._nom))"
   ]
  },
  {
   "cell_type": "code",
   "execution_count": null,
   "metadata": {},
   "outputs": [],
   "source": [
    "type(Personne)"
   ]
  },
  {
   "cell_type": "code",
   "execution_count": null,
   "metadata": {
    "collapsed": true
   },
   "outputs": [],
   "source": [
    "jean = Personne('jean','dupont')"
   ]
  },
  {
   "cell_type": "code",
   "execution_count": null,
   "metadata": {},
   "outputs": [],
   "source": [
    "jean"
   ]
  },
  {
   "cell_type": "code",
   "execution_count": null,
   "metadata": {},
   "outputs": [],
   "source": [
    "type(jean)"
   ]
  },
  {
   "cell_type": "code",
   "execution_count": null,
   "metadata": {},
   "outputs": [],
   "source": [
    "jean.bonjour()"
   ]
  },
  {
   "cell_type": "code",
   "execution_count": null,
   "metadata": {},
   "outputs": [],
   "source": [
    "jean._prenom"
   ]
  },
  {
   "cell_type": "markdown",
   "metadata": {},
   "source": [
    "### Héritage"
   ]
  },
  {
   "cell_type": "code",
   "execution_count": null,
   "metadata": {
    "collapsed": true
   },
   "outputs": [],
   "source": [
    "class Salarie(Personne):\n",
    "    \n",
    "    def __init__(self, nom, prenom, identifiant, poste):\n",
    "        self._identifiant = identifiant\n",
    "        self._poste = poste\n",
    "        \n",
    "    def bonjour(self):\n",
    "        print(\"Bonjour, je m'appelle {} {}, je suis {}\".format(self._prenom, self._nom, self._poste))"
   ]
  },
  {
   "cell_type": "code",
   "execution_count": null,
   "metadata": {
    "collapsed": true
   },
   "outputs": [],
   "source": [
    "james = Salarie('james','bond','007','agent secret')"
   ]
  },
  {
   "cell_type": "code",
   "execution_count": null,
   "metadata": {},
   "outputs": [],
   "source": [
    "james"
   ]
  },
  {
   "cell_type": "code",
   "execution_count": null,
   "metadata": {},
   "outputs": [],
   "source": [
    "james.bonjour()"
   ]
  },
  {
   "cell_type": "code",
   "execution_count": null,
   "metadata": {},
   "outputs": [],
   "source": [
    "class Salarie(Personne):\n",
    "    \n",
    "    def __init__(self, nom, prenom, identifiant, poste):\n",
    "        # Super désigne la composante hérité de l'objet. Ici, celà permet de rappeler le code de Personne.__init__()\n",
    "        super().__init__(nom, prenom)\n",
    "        self._identifiant = identifiant\n",
    "        self._poste = poste\n",
    "        \n",
    "    def bonjour(self):\n",
    "        print(\"Bonjour, je m'appelle {} {}, je suis {}\".format(self._prenom, self._nom, self._poste))"
   ]
  },
  {
   "cell_type": "code",
   "execution_count": null,
   "metadata": {},
   "outputs": [],
   "source": [
    "james = Salarie('james','bond','007','agent secret')"
   ]
  },
  {
   "cell_type": "code",
   "execution_count": null,
   "metadata": {},
   "outputs": [],
   "source": [
    "james.bonjour()"
   ]
  },
  {
   "cell_type": "code",
   "execution_count": null,
   "metadata": {},
   "outputs": [],
   "source": [
    "james.presentation()"
   ]
  },
  {
   "cell_type": "code",
   "execution_count": null,
   "metadata": {},
   "outputs": [],
   "source": []
  },
  {
   "cell_type": "markdown",
   "metadata": {},
   "source": [
    "### Attributs"
   ]
  },
  {
   "cell_type": "code",
   "execution_count": null,
   "metadata": {
    "collapsed": true
   },
   "outputs": [],
   "source": [
    "class Temperature:\n",
    "    # Attribut de classe\n",
    "    default = 'Celcius'\n",
    "    \n",
    "    def __init__(self, valeur, metrique=None):\n",
    "        # Attribut d'instance\n",
    "        self._valeur = valeur\n",
    "        self._metrique = metrique or Temperature.default\n",
    "        \n",
    "    def __repr__(self):\n",
    "        return \"{}° {}\".format(self._valeur, self._metrique)"
   ]
  },
  {
   "cell_type": "code",
   "execution_count": null,
   "metadata": {},
   "outputs": [],
   "source": [
    "t1 = Temperature(37.5)"
   ]
  },
  {
   "cell_type": "code",
   "execution_count": null,
   "metadata": {},
   "outputs": [],
   "source": [
    "t1"
   ]
  },
  {
   "cell_type": "code",
   "execution_count": null,
   "metadata": {
    "collapsed": true
   },
   "outputs": [],
   "source": [
    "Temperature.default = 'Kelvin'"
   ]
  },
  {
   "cell_type": "code",
   "execution_count": null,
   "metadata": {
    "collapsed": true
   },
   "outputs": [],
   "source": [
    "t2 = Temperature(178)"
   ]
  },
  {
   "cell_type": "code",
   "execution_count": null,
   "metadata": {},
   "outputs": [],
   "source": [
    "t1, t2"
   ]
  },
  {
   "cell_type": "markdown",
   "metadata": {},
   "source": [
    "### Propriétés"
   ]
  },
  {
   "cell_type": "code",
   "execution_count": null,
   "metadata": {
    "collapsed": true
   },
   "outputs": [],
   "source": [
    "class Temperature:\n",
    "    # Attribut de classe\n",
    "    default = 'Celcius'\n",
    "    \n",
    "    def __init__(self, valeur, metrique=None):\n",
    "        # Attribut d'instance\n",
    "        self._valeur = valeur\n",
    "        self._metrique = metrique or Temperature.default\n",
    "        \n",
    "    def __repr__(self):\n",
    "        return \"{}° {}\".format(self._valeur, self._metrique)\n",
    "    \n",
    "    @property\n",
    "    def metrique(self):\n",
    "        return self._metrique\n",
    "    \n",
    "    @metrique.setter\n",
    "    def metrique(self,metrique):\n",
    "        if metrique in ('Kelvin', 'Celcius'):\n",
    "            self._metrique = metrique\n",
    "        else :\n",
    "            print('Non !')"
   ]
  },
  {
   "cell_type": "code",
   "execution_count": null,
   "metadata": {
    "collapsed": true
   },
   "outputs": [],
   "source": [
    "t1 = Temperature(37.5)"
   ]
  },
  {
   "cell_type": "code",
   "execution_count": null,
   "metadata": {},
   "outputs": [],
   "source": [
    "t1.metrique"
   ]
  },
  {
   "cell_type": "code",
   "execution_count": null,
   "metadata": {},
   "outputs": [],
   "source": [
    "t1.metrique = 'Farenheit'"
   ]
  },
  {
   "cell_type": "code",
   "execution_count": null,
   "metadata": {
    "collapsed": true
   },
   "outputs": [],
   "source": [
    "# Il reste possible de faire des horreurs si vous y tenez vraiment\n",
    "t1._metrique = 'Farenheit'"
   ]
  },
  {
   "cell_type": "markdown",
   "metadata": {},
   "source": [
    "### Méthodes d'instance, methode de class, methode statique"
   ]
  },
  {
   "cell_type": "code",
   "execution_count": null,
   "metadata": {
    "collapsed": true
   },
   "outputs": [],
   "source": [
    "class Vitesse:\n",
    "    \n",
    "    def __init__(self, vitesse):\n",
    "        assert vitesse > 0\n",
    "        self._vitesse = vitesse\n",
    "        \n",
    "    def __repr__(self):\n",
    "        return('{} km/h'.format(self._vitesse))\n",
    "        \n",
    "    def temps(self, distance):\n",
    "        return '{} heures'.format(distance / self._vitesse)\n",
    "    \n",
    "    @classmethod\n",
    "    def vitesse_trajet(cls, duree, distance):\n",
    "        return cls(distance / duree)\n",
    "       \n",
    "    @staticmethod\n",
    "    def vitesse_max():\n",
    "        return 299792.458"
   ]
  },
  {
   "cell_type": "code",
   "execution_count": null,
   "metadata": {},
   "outputs": [],
   "source": [
    "v = Vitesse(50)"
   ]
  },
  {
   "cell_type": "code",
   "execution_count": null,
   "metadata": {},
   "outputs": [],
   "source": [
    "v"
   ]
  },
  {
   "cell_type": "code",
   "execution_count": null,
   "metadata": {},
   "outputs": [],
   "source": [
    "v.temps(200)"
   ]
  },
  {
   "cell_type": "code",
   "execution_count": null,
   "metadata": {},
   "outputs": [],
   "source": [
    "Vitesse.vitesse_trajet(duree=2, distance=400)"
   ]
  },
  {
   "cell_type": "code",
   "execution_count": null,
   "metadata": {},
   "outputs": [],
   "source": [
    "Vitesse.vitesse_max()"
   ]
  },
  {
   "cell_type": "markdown",
   "metadata": {},
   "source": [
    "### Classe Abstraite"
   ]
  },
  {
   "cell_type": "code",
   "execution_count": null,
   "metadata": {
    "collapsed": true
   },
   "outputs": [],
   "source": [
    "from abc import ABC, abstractmethod\n",
    "\n",
    "class Mesure(ABC):\n",
    "    \n",
    "    def __init__(self, valeur, systeme):\n",
    "        self._valeur = valeur\n",
    "        self._systeme = systeme\n",
    "        super().__init__()\n",
    "        \n",
    "    def __repr__(self):\n",
    "        return '{} {}'.format(self._valeur, self._systeme)\n",
    "        \n",
    "    @abstractmethod\n",
    "    def __add__(self,autre_mesure):\n",
    "        pass"
   ]
  },
  {
   "cell_type": "code",
   "execution_count": null,
   "metadata": {},
   "outputs": [],
   "source": [
    "Mesure(50,'metres')"
   ]
  },
  {
   "cell_type": "code",
   "execution_count": null,
   "metadata": {
    "collapsed": true
   },
   "outputs": [],
   "source": [
    "# Une classe abstraite peut être héritée en ajoutant les methodes manquantes\n",
    "class Distance(Mesure):\n",
    "    \n",
    "    def __add__(self, autre_mesure):\n",
    "        assert self._systeme == autre_mesure._systeme\n",
    "        return Distance( self._valeur + autre_mesure._valeur, self._systeme)"
   ]
  },
  {
   "cell_type": "code",
   "execution_count": null,
   "metadata": {},
   "outputs": [],
   "source": [
    "d1 = Distance(5, 'km')\n",
    "d2 = Distance(10,'km')"
   ]
  },
  {
   "cell_type": "code",
   "execution_count": null,
   "metadata": {},
   "outputs": [],
   "source": [
    "d1 + d2"
   ]
  },
  {
   "cell_type": "code",
   "execution_count": null,
   "metadata": {
    "collapsed": true
   },
   "outputs": [],
   "source": []
  }
 ],
 "metadata": {
  "kernelspec": {
   "display_name": "Python 3",
   "language": "python",
   "name": "python3"
  },
  "language_info": {
   "codemirror_mode": {
    "name": "ipython",
    "version": 3
   },
   "file_extension": ".py",
   "mimetype": "text/x-python",
   "name": "python",
   "nbconvert_exporter": "python",
   "pygments_lexer": "ipython3",
   "version": "3.6.1"
  }
 },
 "nbformat": 4,
 "nbformat_minor": 2
}
