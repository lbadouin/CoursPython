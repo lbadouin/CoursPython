{
 "cells": [
  {
   "cell_type": "markdown",
   "metadata": {},
   "source": [
    "### Les exceptions en python\n",
    "\n",
    "Les exceptions permettent de remonter et de traiter des comportements inattendus dans le code ou les paramètres qui lui sont passés."
   ]
  },
  {
   "cell_type": "code",
   "execution_count": null,
   "metadata": {},
   "outputs": [],
   "source": [
    "def divise(a, b):\n",
    "    return a / b"
   ]
  },
  {
   "cell_type": "code",
   "execution_count": null,
   "metadata": {},
   "outputs": [],
   "source": [
    "divise('un','deux')"
   ]
  },
  {
   "cell_type": "code",
   "execution_count": null,
   "metadata": {},
   "outputs": [],
   "source": [
    "divise(1+1, 1-1)"
   ]
  },
  {
   "cell_type": "markdown",
   "metadata": {},
   "source": [
    "La syntaxe try / except permet d'intercepter des exceptions et de les traiter"
   ]
  },
  {
   "cell_type": "code",
   "execution_count": null,
   "metadata": {},
   "outputs": [],
   "source": [
    "def divise(a,b):\n",
    "    try:\n",
    "        return a / b\n",
    "    except ZeroDivisionError :\n",
    "        return None"
   ]
  },
  {
   "cell_type": "code",
   "execution_count": null,
   "metadata": {},
   "outputs": [],
   "source": [
    "divise(1+1, 1-1)"
   ]
  },
  {
   "cell_type": "code",
   "execution_count": null,
   "metadata": {},
   "outputs": [],
   "source": [
    "divise('un','deux')"
   ]
  },
  {
   "cell_type": "markdown",
   "metadata": {},
   "source": [
    "Les exceptions ont une hiérachie (ce sont des classes qui héritent de la classe exceptions). Rattraper une exceptions permet de rattrapper les exceptions dérivées."
   ]
  },
  {
   "cell_type": "code",
   "execution_count": null,
   "metadata": {},
   "outputs": [],
   "source": [
    "def divise(a,b):\n",
    "    try:\n",
    "        return a / b\n",
    "    # Attention, il est plus prudent de rattraper les exceptions de manière fine que de manière globale sous peine de ne pas pouvoir traiter les elements problématiques\n",
    "    except Exception as err :\n",
    "        print(err)\n",
    "        return None"
   ]
  },
  {
   "cell_type": "code",
   "execution_count": null,
   "metadata": {},
   "outputs": [],
   "source": [
    "divise('un','deux')"
   ]
  },
  {
   "cell_type": "code",
   "execution_count": null,
   "metadata": {},
   "outputs": [],
   "source": [
    "divise(1+1, 1-1)"
   ]
  },
  {
   "cell_type": "code",
   "execution_count": null,
   "metadata": {},
   "outputs": [],
   "source": [
    "# Le mot clef finnally permet d'effectuer un traitement après le bloc try, mais avant le bloc except, qu'une exception ait eu lieu ou non\n",
    "def divise(a,b):\n",
    "    try:\n",
    "        div = a / b\n",
    "    except Exception as err:\n",
    "        print(err)\n",
    "        div = None\n",
    "    finally:\n",
    "        print(\"fin du traitement\")\n",
    "    return div"
   ]
  },
  {
   "cell_type": "markdown",
   "metadata": {},
   "source": [
    "### Exception définies par l'utilisateur"
   ]
  },
  {
   "cell_type": "code",
   "execution_count": null,
   "metadata": {},
   "outputs": [],
   "source": [
    "class MyCustomException(Exception):\n",
    "    pass\n",
    "\n",
    "def divise(a,b):\n",
    "    if b == 0 :\n",
    "        raise MyCustomException('Pas de division par zéro !')\n",
    "    else :\n",
    "        return a/b"
   ]
  },
  {
   "cell_type": "code",
   "execution_count": null,
   "metadata": {},
   "outputs": [],
   "source": [
    "divise(1,2)"
   ]
  },
  {
   "cell_type": "code",
   "execution_count": null,
   "metadata": {},
   "outputs": [],
   "source": [
    "divise(1,0)"
   ]
  },
  {
   "cell_type": "code",
   "execution_count": null,
   "metadata": {},
   "outputs": [],
   "source": []
  }
 ],
 "metadata": {
  "kernelspec": {
   "display_name": "Python 3",
   "language": "python",
   "name": "python3"
  },
  "language_info": {
   "codemirror_mode": {
    "name": "ipython",
    "version": 3
   },
   "file_extension": ".py",
   "mimetype": "text/x-python",
   "name": "python",
   "nbconvert_exporter": "python",
   "pygments_lexer": "ipython3",
   "version": "3.7.3"
  }
 },
 "nbformat": 4,
 "nbformat_minor": 2
}
