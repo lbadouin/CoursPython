{
 "cells": [
  {
   "cell_type": "markdown",
   "metadata": {},
   "source": [
    "### Fichiers JSON\n",
    "\n",
    "Les fichiers JSON (Java Script Object Notification) sont un format courament utilisé pour échanger des données sur le web.\n",
    "\n",
    "Ils ont un format quasiment identique aux structures python et peuvent facilement être convertis en ou depuis des objets python.\n",
    "\n",
    "Ce format est très utilisé pour stocker ou transmettre des éléments à la structure complexe"
   ]
  },
  {
   "cell_type": "code",
   "execution_count": 1,
   "metadata": {},
   "outputs": [],
   "source": [
    "import json"
   ]
  },
  {
   "cell_type": "code",
   "execution_count": 3,
   "metadata": {},
   "outputs": [
    {
     "data": {
      "text/plain": [
       "'[{\"nom\": \"Alice\", \"id\": 1}, {\"nom\": \"Bob\", \"id\": 2}, {\"nom\": \"james\", \"id\": \"007\"}]'"
      ]
     },
     "execution_count": 3,
     "metadata": {},
     "output_type": "execute_result"
    }
   ],
   "source": [
    "# Transformer une structure python en json\n",
    "\n",
    "struct = [{'nom':'Alice','id':1}, {'nom':'Bob', 'id':2},{'nom': 'james', 'id':'007'}]\n",
    "json.dumps(struct)"
   ]
  },
  {
   "cell_type": "code",
   "execution_count": 5,
   "metadata": {},
   "outputs": [
    {
     "data": {
      "text/plain": [
       "{'nom': 'Charlie', 'id': 3}"
      ]
     },
     "execution_count": 5,
     "metadata": {},
     "output_type": "execute_result"
    }
   ],
   "source": [
    "texte = '{\"nom\" : \"Charlie\", \"id\" : 3}'\n",
    "json.loads(texte)"
   ]
  },
  {
   "cell_type": "code",
   "execution_count": null,
   "metadata": {},
   "outputs": [],
   "source": []
  },
  {
   "cell_type": "markdown",
   "metadata": {},
   "source": [
    "### Exercice : Fichier du personnel\n",
    "\n",
    "Dans cet exercice, vous allez utiliser un fichier json pour gérer le personnel de votre entreprise"
   ]
  },
  {
   "cell_type": "code",
   "execution_count": 6,
   "metadata": {},
   "outputs": [],
   "source": [
    "# Exercice 1 : créer les classes salarié, dévelloppeur, et RH\n",
    "# Un salarié possède un nom, un prénom et un id\n",
    "# Un développeur possède en outre une liste de technologie, et un RH possède une liste de devellopeurs\n",
    "\n"
   ]
  },
  {
   "cell_type": "code",
   "execution_count": 7,
   "metadata": {},
   "outputs": [],
   "source": [
    "# Exercice 2 : créer une fonction permettant de d'écrire une liste de salariés dans un json, et de créer une liste de salariés depuis un json\n"
   ]
  },
  {
   "cell_type": "code",
   "execution_count": 8,
   "metadata": {},
   "outputs": [],
   "source": [
    "# Exercice 3 : créer un fichier json, puis une fonction permettant d'ajouter ou retirer un salariés dans ce fichier\n",
    "\n"
   ]
  },
  {
   "cell_type": "code",
   "execution_count": 10,
   "metadata": {},
   "outputs": [],
   "source": [
    "# Exercice 4 : créer une fonction interactive pour présenter les salariés du fichier\n",
    "# Astuce : utiliser la fonction display pour présenter de manière plus aggréable à l'oueil une structure\n"
   ]
  },
  {
   "cell_type": "code",
   "execution_count": null,
   "metadata": {},
   "outputs": [],
   "source": []
  }
 ],
 "metadata": {
  "kernelspec": {
   "display_name": "Python 3",
   "language": "python",
   "name": "python3"
  },
  "language_info": {
   "codemirror_mode": {
    "name": "ipython",
    "version": 3
   },
   "file_extension": ".py",
   "mimetype": "text/x-python",
   "name": "python",
   "nbconvert_exporter": "python",
   "pygments_lexer": "ipython3",
   "version": "3.7.3"
  }
 },
 "nbformat": 4,
 "nbformat_minor": 2
}
