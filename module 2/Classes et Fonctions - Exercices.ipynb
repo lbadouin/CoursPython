{
 "cells": [
  {
   "cell_type": "markdown",
   "metadata": {},
   "source": [
    "### Ecrire une classe abstraite Mesure\n",
    "\n",
    "Cette classe possède un initialisateur prenant en paramètre une valeur et une unité et les expose sous forme de propriétés.\n",
    "\n",
    "Elle possède également un méthode __ __repr__ __ () qui permet d'afficher proprement le contenu de l'instance. \n",
    "\n",
    "Elle possède également les méthodes abstratires suivantes :\n",
    "\n",
    "composer deux mesures :\n",
    "* __ __add__ __\n",
    "* __ __sub__ __\n",
    "* __ __mul__ __\n",
    "* __ __div__ __\n",
    "\n",
    "comparer deux mesures :\n",
    "* __ __lt__ __\n",
    "* __ __le__ __\n",
    "* __ __eq__ __\n",
    "* __ __ne__ __\n",
    "* __ __ge__ __\n",
    "* __ __gt__ __"
   ]
  },
  {
   "cell_type": "code",
   "execution_count": null,
   "metadata": {},
   "outputs": [],
   "source": []
  },
  {
   "cell_type": "code",
   "execution_count": null,
   "metadata": {},
   "outputs": [],
   "source": [
    "# Test\n",
    "v = Mesure(330, 'm/s')"
   ]
  },
  {
   "cell_type": "markdown",
   "metadata": {},
   "source": [
    "### Implémenter une classe Distance qui hérite de la classe mesure\n",
    "La classe distance supporte les unités suivantes :\n",
    "* km\n",
    "* m (par défaut)\n",
    "* cm\n",
    "* mm\n",
    "\n",
    "Seules des distances positives exitents.\n",
    "\n",
    "Elle doit également surcharger les opérations de comparaisons entre distances, d'addition de distances, de multiplication et division d'une distance par un scalaire et de division de deux distances.\n",
    "\n",
    "En cas de composition entre deux distances exprimés dans deux unités différentes, c'est l'unité par défaut qui sera utilisée."
   ]
  },
  {
   "cell_type": "code",
   "execution_count": null,
   "metadata": {},
   "outputs": [],
   "source": []
  },
  {
   "cell_type": "code",
   "execution_count": null,
   "metadata": {},
   "outputs": [],
   "source": []
  },
  {
   "cell_type": "code",
   "execution_count": null,
   "metadata": {},
   "outputs": [],
   "source": [
    "# Test\n",
    "marathon = Distance(42,'km')\n",
    "\n",
    "sprint = Distance(100,'m')\n",
    "\n",
    "paris_versaille = Distance(16.5, 'km')\n",
    "\n",
    "sprint2 = Distance(100, 'm')\n",
    "\n",
    "british = Distance(7, 'miles')"
   ]
  },
  {
   "cell_type": "code",
   "execution_count": null,
   "metadata": {},
   "outputs": [],
   "source": [
    "marathon > sprint, sprint > paris_versaille"
   ]
  },
  {
   "cell_type": "code",
   "execution_count": null,
   "metadata": {},
   "outputs": [],
   "source": [
    "sprint > sprint2, sprint >= sprint2"
   ]
  },
  {
   "cell_type": "code",
   "execution_count": null,
   "metadata": {},
   "outputs": [],
   "source": [
    "[marathon, sprint, paris_versaille, sprint2].sort()"
   ]
  },
  {
   "cell_type": "code",
   "execution_count": null,
   "metadata": {},
   "outputs": [],
   "source": [
    "sprint * 4"
   ]
  },
  {
   "cell_type": "code",
   "execution_count": null,
   "metadata": {},
   "outputs": [],
   "source": [
    "marathon + paris_versaille"
   ]
  }
 ],
 "metadata": {
  "kernelspec": {
   "display_name": "Python 3",
   "language": "python",
   "name": "python3"
  },
  "language_info": {
   "codemirror_mode": {
    "name": "ipython",
    "version": 3
   },
   "file_extension": ".py",
   "mimetype": "text/x-python",
   "name": "python",
   "nbconvert_exporter": "python",
   "pygments_lexer": "ipython3",
   "version": "3.7.3"
  }
 },
 "nbformat": 4,
 "nbformat_minor": 2
}
