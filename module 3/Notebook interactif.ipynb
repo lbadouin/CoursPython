{
 "cells": [
  {
   "cell_type": "markdown",
   "metadata": {},
   "source": [
    "* installer le module de widgets : \n",
    "\n",
    "_pip install ipywidgets_\n",
    "\n",
    "* Activer le module dans jupyter\n",
    "\n",
    "_jupyter nbextension enable --py widgetsnbextension_\n",
    "\n",
    "* Dans le notebook, importer les fonctions qui permettront d'appeler le widget\n",
    "\n",
    "_import ipywidgets as widgets_\n",
    "\n",
    "_from ipywidgets import interact, interact_manual_"
   ]
  },
  {
   "cell_type": "code",
   "execution_count": 1,
   "metadata": {},
   "outputs": [],
   "source": [
    "import ipywidgets as widgets\n",
    "\n",
    "from ipywidgets import interact, interact_manual"
   ]
  },
  {
   "cell_type": "code",
   "execution_count": 2,
   "metadata": {},
   "outputs": [],
   "source": [
    "def begue(message, repetitions):\n",
    "    phrase = []\n",
    "    for mot in message.split(' ') :\n",
    "        if len(mot) > 1:\n",
    "            phrase.append((mot+' ') * repetitions)\n",
    "        else:\n",
    "            phrase.append(mot)\n",
    "    return ' '.join(phrase)\n",
    "    "
   ]
  },
  {
   "cell_type": "code",
   "execution_count": 3,
   "metadata": {},
   "outputs": [
    {
     "data": {
      "text/plain": [
       "'Bonjour Bonjour  , comment comment  allez-vous allez-vous  ?'"
      ]
     },
     "execution_count": 3,
     "metadata": {},
     "output_type": "execute_result"
    }
   ],
   "source": [
    "begue(\"Bonjour , comment allez-vous ?\", 2)"
   ]
  },
  {
   "cell_type": "code",
   "execution_count": 4,
   "metadata": {},
   "outputs": [
    {
     "data": {
      "application/vnd.jupyter.widget-view+json": {
       "model_id": "aac5b40295e9454faf77769c70b1c834",
       "version_major": 2,
       "version_minor": 0
      },
      "text/plain": [
       "interactive(children=(Text(value='Bonjour , comment allez-vous ?', description='message'), IntSlider(value=2, …"
      ]
     },
     "metadata": {},
     "output_type": "display_data"
    }
   ],
   "source": [
    "@interact\n",
    "def interactive_begue(message = \"Bonjour , comment allez-vous ?\", repetitions = 2):\n",
    "    return begue(message, repetitions)"
   ]
  },
  {
   "cell_type": "code",
   "execution_count": 5,
   "metadata": {},
   "outputs": [
    {
     "data": {
      "application/vnd.jupyter.widget-view+json": {
       "model_id": "cec6f1dab979436786b247735ca147b1",
       "version_major": 2,
       "version_minor": 0
      },
      "text/plain": [
       "interactive(children=(Text(value='Bonjour , comment allez-vous ?', description='message'), IntSlider(value=3, …"
      ]
     },
     "metadata": {},
     "output_type": "display_data"
    }
   ],
   "source": [
    "@interact\n",
    "def interactive_begue2(message = \"Bonjour , comment allez-vous ?\", repetitions = (1, 5, 1)):\n",
    "    return begue(message, repetitions)"
   ]
  },
  {
   "cell_type": "code",
   "execution_count": 12,
   "metadata": {},
   "outputs": [
    {
     "data": {
      "application/vnd.jupyter.widget-view+json": {
       "model_id": "65fd50e8fc8044fcbdccf215549fe6d3",
       "version_major": 2,
       "version_minor": 0
      },
      "text/plain": [
       "interactive(children=(Dropdown(description='file', options=('desktop.ini', 'espace.jpg', 'ocean.jpg', 'papillo…"
      ]
     },
     "metadata": {},
     "output_type": "display_data"
    }
   ],
   "source": [
    "import os\n",
    "from IPython.display import Image\n",
    "\n",
    "@interact\n",
    "def show_images(file=os.listdir(r'C:\\Users\\Meritis Classe\\Pictures\\Saved Pictures')):\n",
    "    fdir = r'C:\\Users\\Meritis Classe\\Pictures\\Saved Pictures'\n",
    "    try:\n",
    "        display(Image(os.path.join(fdir,file)))\n",
    "    except Exception as err:\n",
    "        print(\"Cannot display image : {}\".format(err))"
   ]
  },
  {
   "cell_type": "code",
   "execution_count": 7,
   "metadata": {},
   "outputs": [
    {
     "data": {
      "text/plain": [
       "['desktop.ini', 'espace.jpg', 'ocean.jpg', 'papillon.jpg']"
      ]
     },
     "execution_count": 7,
     "metadata": {},
     "output_type": "execute_result"
    }
   ],
   "source": [
    "os.listdir(r'C:\\Users\\Meritis Classe\\Pictures\\Saved Pictures')"
   ]
  },
  {
   "cell_type": "code",
   "execution_count": null,
   "metadata": {},
   "outputs": [],
   "source": []
  },
  {
   "cell_type": "code",
   "execution_count": null,
   "metadata": {},
   "outputs": [],
   "source": []
  }
 ],
 "metadata": {
  "kernelspec": {
   "display_name": "Python 3",
   "language": "python",
   "name": "python3"
  },
  "language_info": {
   "codemirror_mode": {
    "name": "ipython",
    "version": 3
   },
   "file_extension": ".py",
   "mimetype": "text/x-python",
   "name": "python",
   "nbconvert_exporter": "python",
   "pygments_lexer": "ipython3",
   "version": "3.7.3"
  }
 },
 "nbformat": 4,
 "nbformat_minor": 2
}
