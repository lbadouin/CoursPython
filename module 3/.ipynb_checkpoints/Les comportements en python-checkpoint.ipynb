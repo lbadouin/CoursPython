{
 "cells": [
  {
   "cell_type": "markdown",
   "metadata": {},
   "source": [
    "# Les Comportements\n",
    "\n",
    "En python, un objet n'est pas forcement traité suivant d'où il vient (héritage) ou suivant des contrats qu'il remplit (interface), mais suivant ce qu'il sait faire.\n",
    "\n",
    "Il existe des méthodes particulières (commançant et finissant par __ __ ) qui permettent de donner à un objet des capacité spéciales"
   ]
  },
  {
   "cell_type": "markdown",
   "metadata": {},
   "source": [
    "### Objet Callable\n",
    "\n",
    "Un objet est callable si il implémente la fonction  \\_\\_call\\_\\_ . \n",
    "Si c'est le cas, il peut se comporter de manière similaire à une fonction"
   ]
  },
  {
   "cell_type": "code",
   "execution_count": 4,
   "metadata": {},
   "outputs": [],
   "source": [
    "class Salutations:\n",
    "    def __init__(self,message):\n",
    "        self._message = message\n",
    "        \n",
    "    def __call__(self,*personnes):\n",
    "        for p in personnes :\n",
    "            print(\"{} {} !\".format(self._message,p))"
   ]
  },
  {
   "cell_type": "code",
   "execution_count": 5,
   "metadata": {},
   "outputs": [],
   "source": [
    "bonjour = Salutations(\"Bonjour\")"
   ]
  },
  {
   "cell_type": "code",
   "execution_count": 6,
   "metadata": {},
   "outputs": [
    {
     "name": "stdout",
     "output_type": "stream",
     "text": [
      "Bonjour Alice !\n",
      "Bonjour Bob !\n"
     ]
    }
   ],
   "source": [
    "bonjour(\"Alice\",\"Bob\")"
   ]
  },
  {
   "cell_type": "markdown",
   "metadata": {},
   "source": [
    "### Objet Iterable\n",
    "\n",
    "Un objet est iterable s'il implémente la méthode __ __iter__ __ , qui doit renvoyer un générateur. Un objet itérable peut être utilisé dans une boucle for.\n",
    "\n",
    "Un objet se comporte comme un itérateur s'il implémente la méthode __ __next__ __ ."
   ]
  },
  {
   "cell_type": "code",
   "execution_count": 12,
   "metadata": {},
   "outputs": [],
   "source": [
    "class CountDown:\n",
    "    \n",
    "    def __init__(self, start):\n",
    "        self._current = start\n",
    "        self._start = start\n",
    "        \n",
    "    def __iter__(self):\n",
    "        return self\n",
    "    \n",
    "    def __next__(self):\n",
    "        if self._current < 0 :\n",
    "            raise StopIteration\n",
    "        else :\n",
    "            self._current -= 1\n",
    "            return self._current + 1"
   ]
  },
  {
   "cell_type": "code",
   "execution_count": 13,
   "metadata": {},
   "outputs": [
    {
     "name": "stdout",
     "output_type": "stream",
     "text": [
      "10\n",
      "9\n",
      "8\n",
      "7\n",
      "6\n",
      "5\n",
      "4\n",
      "3\n",
      "2\n",
      "1\n",
      "0\n"
     ]
    }
   ],
   "source": [
    "for i in CountDown(10):\n",
    "    print(i)"
   ]
  },
  {
   "cell_type": "markdown",
   "metadata": {},
   "source": [
    "### Objets Indexables, slicables\n",
    "\n",
    "La fonction spéciale \\_\\_getitem\\_\\_() permet de d'accéder à des éléments d'un objet comme si il s'agissait d'une liste ou d'un dictionnaire. La fonction \\_\\_setitem\\_\\_() permet de modifier la valeur des éléments"
   ]
  },
  {
   "cell_type": "code",
   "execution_count": 17,
   "metadata": {},
   "outputs": [],
   "source": [
    "# version simple\n",
    "class ObligationPV:\n",
    "    \n",
    "    def __init__(self, nominal, rate, maturity):\n",
    "        self._rate = rate\n",
    "        self._maturity = maturity\n",
    "        self._nominal = nominal\n",
    "        self._cash_flow = [nominal * rate / 100] * maturity\n",
    "        self._cash_flow[-1] += nominal\n",
    "\n",
    "    def __getitem__(self, key):\n",
    "        return self._cash_flow[key] / ((1 + self._rate/100 ) ** key)\n",
    "    \n",
    "    "
   ]
  },
  {
   "cell_type": "code",
   "execution_count": 18,
   "metadata": {},
   "outputs": [],
   "source": [
    "oat_1 = ObligationPV(1000000, 5, 10)"
   ]
  },
  {
   "cell_type": "code",
   "execution_count": 19,
   "metadata": {},
   "outputs": [
    {
     "data": {
      "text/plain": [
       "45351.47392290249"
      ]
     },
     "execution_count": 19,
     "metadata": {},
     "output_type": "execute_result"
    }
   ],
   "source": [
    "oat_1[2]"
   ]
  },
  {
   "cell_type": "code",
   "execution_count": null,
   "metadata": {},
   "outputs": [],
   "source": [
    "# version simple\n",
    "class ObligationPV:\n",
    "    \n",
    "    def __init__(self, nominal, rate, maturity):\n",
    "        self._rate = rate\n",
    "        self._maturity = maturity\n",
    "        self._nominal = nominal\n",
    "        self._cash_flow = [nominal * rate / 100] * maturity\n",
    "        self._cash_flow[-1] += nominal\n",
    "\n",
    "    def __getitem__(self, key):\n",
    "        return self._cash_flow[key] / ((1 + self._rate/100 ) ** key)"
   ]
  },
  {
   "cell_type": "code",
   "execution_count": null,
   "metadata": {},
   "outputs": [],
   "source": []
  },
  {
   "cell_type": "markdown",
   "metadata": {},
   "source": [
    "## Les surcharges d'operateurs\n",
    "\n",
    "La pluspart des opérateurs disponibles pour les types usuels peuvent également être utilisés par une classe qui implémente les méthodes suivantes.\n",
    "\n",
    "Bien qu'il soit possible de générer n'importe quel comportement, il est recommandé de respecter la sémantique usuelle de ces opérateurs.\n",
    "\n",
    "Note : ne les apprenez pas par coeur, regarder la documentation si besoin\n",
    "\n",
    "### Operateurs Unaires\n",
    "\n",
    "\\-\tobject.\\_\\_neg\\_\\_(self)\n",
    "\n",
    "\\+\tobject.\\_\\_pos\\_\\_(self)\n",
    "\n",
    "abs()\tobject.\\_\\_abs\\_\\_(self)\n",
    "\n",
    "\\~\tobject.\\_\\_invert\\_\\_(self)\n",
    "\n",
    "complex()\tobject.\\_\\_complex\\_\\_(self)\n",
    "\n",
    "int()\tobject.\\_\\_int\\_\\_(self)\n",
    "\n",
    "long()\tobject. \\_\\_long\\_\\_(self)\n",
    "\n",
    "float()\tobject.\\_\\_float\\_\\_(self)\n",
    "\n",
    "oct()\tobject.\\_\\_oct\\_\\_(self)\n",
    "\n",
    "hex()\tobject.\\_\\_hex\\_\\_(self\n",
    "\n",
    "\n",
    "### Operateurs Binaires\n",
    "\n",
    "\\+\tobject.\\_\\_add\\_\\_(self, other)\n",
    "\n",
    "\\-\tobject._\\_sub\\_\\_(self, other)\n",
    "\n",
    "\\*\tobject._\\_mul\\_\\_(self, other)\n",
    "\n",
    "\\/\\/\tobject.\\_\\_floordiv\\_\\_(self, other)\n",
    "\n",
    "\\/\tobject.\\_\\_truediv\\_\\_(self, other)\n",
    "\n",
    "\\%\tobject.\\_\\_mod\\_\\_(self, other)\n",
    "\n",
    "**\tobject.\\_\\_pow\\_\\_(self, other[, modulo])\n",
    "\n",
    "<<\tobject.\\_\\_lshift\\_\\_(self, other)\n",
    "\n",
    "\\>\\>\tobject.\\_\\_rshift\\_\\_(self, other)\n",
    "\n",
    "\\&\tobject.\\_\\_and\\_\\_(self, other)\n",
    "\n",
    "\\^\tobject.\\_\\_xor\\_\\_(self, other)\n",
    "\n",
    "\\|\tobject.\\_\\_or\\_\\_(self, other)\n",
    "\n",
    "### Assignation\n",
    "\n",
    "+=\tobject.\\_\\_iadd\\_\\_(self, other)\n",
    "\n",
    "-=\tobject.\\_\\_isub\\_\\_(self, other)\n",
    "\n",
    "*=\tobject.\\_\\_imul\\_\\_(self, other)\n",
    "\n",
    "/=\tobject.\\_\\_idiv\\_\\_(self, other)\n",
    "\n",
    "//=\tobject.\\_\\_ifloordiv\\_\\_(self, other)\n",
    "\n",
    "%=\tobject.\\_\\_imod\\_\\_(self, other)\n",
    "\n",
    "\\**=\tobject.\\_\\_ipow\\_\\_(self, other\\[, modulo\\])\n",
    "\n",
    "<<=\tobject.\\_\\_ilshift\\_\\_(self, other)\n",
    "\n",
    "\\>\\>=\tobject.\\_\\_irshift\\_\\_(self, other)\n",
    "\n",
    "&=\tobject.\\_\\_iand\\_\\_(self, other)\n",
    "\n",
    "^=\tobject.\\_\\_ixor\\_\\_(self, other)\n",
    "\n",
    "|=\tobject.\\_\\_ior\\_\\_(self, other)\n",
    "\n",
    "\n",
    "### Comparaison\n",
    "\n",
    "\n",
    "<\tobject.\\_\\_lt\\_\\_(self, other)\n",
    "\n",
    "<=\tobject.\\_\\_le\\_\\_(self, other)\n",
    "\n",
    "==\tobject.\\_\\_eq\\_\\_(self, other)\n",
    "\n",
    "!=\tobject.\\_\\_ne\\_\\_(self, other)\n",
    "\n",
    "\\>=\tobject.\\_\\_ge\\_\\_(self, other)\n",
    "\n",
    "\\>\tobject.\\_\\_gt\\_\\_(self, other)\n"
   ]
  },
  {
   "cell_type": "code",
   "execution_count": null,
   "metadata": {},
   "outputs": [],
   "source": []
  },
  {
   "cell_type": "markdown",
   "metadata": {},
   "source": [
    "### Les méthodes spéciales à eviter\n",
    "\n",
    "Note: communément appelées \"touche pas à ça p'tit con!\", ces fonctions sont à laisser tranquile pour le moment, car elles permettent de modifier la manière dont python gère le code. Si des exemples de codes vous proposent de les utiliser, evitez-les.\n",
    "\n",
    "\\_\\_new\\_\\_() : permet de modifier la manière dont python crée un nouvel objet\n",
    "\n",
    "\\_\\_getattribute\\_\\_(), \\_\\_setattribute\\_\\_(), \\_\\_delattribute\\_\\_() : modifie la manière dont python accède aux attributs d'un objet.\n",
    "\n",
    "\\_\\_hash\\_\\_(): retourne un hash \"custom\" de l'objet\n",
    "\n",
    "\\_\\_enter\\_\\_() et \\_\\_exit\\_\\_() : accède et quitte un contexte d'exécution\n",
    "\n",
    "\n"
   ]
  },
  {
   "cell_type": "code",
   "execution_count": null,
   "metadata": {},
   "outputs": [],
   "source": []
  }
 ],
 "metadata": {
  "kernelspec": {
   "display_name": "Python 3",
   "language": "python",
   "name": "python3"
  },
  "language_info": {
   "codemirror_mode": {
    "name": "ipython",
    "version": 3
   },
   "file_extension": ".py",
   "mimetype": "text/x-python",
   "name": "python",
   "nbconvert_exporter": "python",
   "pygments_lexer": "ipython3",
   "version": "3.7.3"
  }
 },
 "nbformat": 4,
 "nbformat_minor": 2
}
