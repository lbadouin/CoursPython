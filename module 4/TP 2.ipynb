{
 "cells": [
  {
   "cell_type": "markdown",
   "metadata": {},
   "source": [
    "### Galerie d'images\n",
    "\n",
    "Dans ce TP vous allez apprendre à manipuler des fichiers : renommer, déplacer, compresser\n",
    "\n",
    "Le but de l'exercice est de créer un programme permettant de renommer une liste de fichiers suivant un template pré-défini puis de les regrouper dans une archive.\n",
    "\n",
    "Dans un second temps, vous mettrez en place un programme permettant d'afficher cette archive dans le notebook avec un système de pagination"
   ]
  },
  {
   "cell_type": "code",
   "execution_count": null,
   "metadata": {},
   "outputs": [],
   "source": [
    "import os\n",
    "import io\n",
    "from datetime import datetime\n",
    "import logging\n",
    "\n",
    "import ipywidgets as widgets\n",
    "from ipywidgets import interact, interact_manual\n",
    "\n",
    "from IPython.display import Image"
   ]
  },
  {
   "cell_type": "code",
   "execution_count": null,
   "metadata": {},
   "outputs": [],
   "source": [
    "# Exercice 1 : renommer toutes les images du dossier en img_xxxxx.jpg, où xxxx est l'ordre de dernière modification de l'image.\n",
    "\n"
   ]
  },
  {
   "cell_type": "code",
   "execution_count": null,
   "metadata": {},
   "outputs": [],
   "source": [
    "# Exercice 2 : Compresser toutes les images renommées dans un fichier zip\n",
    "# Astuce : utiliser la fonction zipfile.ZipFile pour créer ou lire un fichier compressé\n"
   ]
  },
  {
   "cell_type": "code",
   "execution_count": null,
   "metadata": {},
   "outputs": [],
   "source": [
    "# Exercice 3 : afficher les images de l'archive dans jupyter. Les images devront être affichées 4 par 4, avec un mécanisme permettant de choisir le numéro de page\n",
    "# Astuce : la fonction open d'un fichier zip permet d'accéder aux fichiers contenus dans celui-ci\n"
   ]
  }
 ],
 "metadata": {
  "kernelspec": {
   "display_name": "Python 3",
   "language": "python",
   "name": "python3"
  },
  "language_info": {
   "codemirror_mode": {
    "name": "ipython",
    "version": 3
   },
   "file_extension": ".py",
   "mimetype": "text/x-python",
   "name": "python",
   "nbconvert_exporter": "python",
   "pygments_lexer": "ipython3",
   "version": "3.7.3"
  }
 },
 "nbformat": 4,
 "nbformat_minor": 2
}
